{
 "cells": [
  {
   "cell_type": "markdown",
   "metadata": {},
   "source": [
    "# Week 10 case study: continued from week 9"
   ]
  },
  {
   "cell_type": "code",
   "execution_count": null,
   "metadata": {},
   "outputs": [],
   "source": [
    "from process_improve import *    \n",
    "from bokeh.plotting import output_notebook\n",
    "output_notebook()"
   ]
  },
  {
   "cell_type": "markdown",
   "metadata": {},
   "source": [
    "# Part 2: continuing on with the optimization\n",
    "\n",
    "The prior optimization looks like there is an optimum at D=+2 in coded units, based on a model $y = c + D +D^2$. This type of model has a quadratic shape, and it will pull the shape of the curve down. Therefore it looks like there is an optimium, but it is not necessarily true.\n",
    "\n",
    "Nevertheless, we will assume there is an optimium at $D=+2$ or $d=60$ hours. But we therefore should run an experiment past the optimum, to verify that it is actually an optimum.\n"
   ]
  },
  {
   "cell_type": "code",
   "execution_count": null,
   "metadata": {},
   "outputs": [],
   "source": [
    "d4 = c(24, 48, 36, 36, 60, coded=False, units='hours', name='Duration')\n",
    "y4 = c(__, __, __, __, __, name=\"Production\", units=\"g/unit sugar\")\n",
    "expt4 = gather(d=d4, y=y4, title=\"Switch over to real-world units\")\n",
    "print(expt4)"
   ]
  },
  {
   "cell_type": "code",
   "execution_count": null,
   "metadata": {},
   "outputs": [],
   "source": [
    "# Rebuild the quadratic model again, and start the plots in real-world units.\n",
    "model4 = lm(\"y ~ d + I(d**2)\", data=expt4)\n",
    "summary(model4)\n",
    "p = plot_model(model4, \"d\", \"y\", xlim=(20, 110), color=\"purple\")"
   ]
  },
  {
   "cell_type": "code",
   "execution_count": null,
   "metadata": {},
   "outputs": [],
   "source": [
    "# Let's see how well this model fits. If we run an experiment at 75 hours,\n",
    "# we should notice a drop-off. But, always predict it first:\n",
    "d5 = d4.extend([75])\n",
    "print(predict(model4, d=d5))"
   ]
  },
  {
   "cell_type": "markdown",
   "metadata": {},
   "source": [
    "The prediction at 75 hours is a yield of **NNN** g/unit sugar.\n",
    "\n",
    "Then run the experiment. The actual result was: **NNN** g/unit sugar. This is unexpected: the prediction is higher than an other experimental point.\n",
    "\n",
    "So we have evidence the model structure should change. We will try some different model types:\n",
    "      \n",
    "| Description             | Equation specifying the model format         | \n",
    "|-------------------------|----------------------------------------------|\n",
    "| Quadratic (see above)   | $y = \\text{intercept} + d + d^2$             |\n",
    "| Inverse (hyperbolic)    | $y = \\text{intercept} + \\dfrac{1}{d}$        | \n",
    "| Inverse square root     | $y = \\text{intercept} + \\dfrac{1}{\\sqrt{d}}$ | \n",
    "| Inverse log             | $y = \\text{intercept} + \\dfrac{1}{\\log{d}}$  | \n",
    "\n",
    "Note that these equations have real-world value of duration $d$, and not the coded-value of D. This is because the coded value can be zero or negative.\n",
    "\n",
    "So we are forced to switch to real-world units in our models. Here is no problem, because there is only 1 variable that is interesting. A model with coded or uncoded units will be exactly the same fit ($R^2$ and standard error)."
   ]
  },
  {
   "cell_type": "code",
   "execution_count": null,
   "metadata": {},
   "outputs": [],
   "source": [
    "# Model: y = intercept + 1/d\n",
    "y5 = y4.extend([___])\n",
    "expt5 = gather(d=d5, y=y5, title=\"Hyperbolic model\")\n",
    "model5 = lm(\"y ~ I(1/d)\", data=expt5)\n",
    "summary(model5)\n",
    "p = plot_model(model5, \"d\", \"y\", fig=p, xlim=(20, 110), color=\"darkgreen\")\n"
   ]
  },
  {
   "cell_type": "markdown",
   "metadata": {},
   "source": [
    "The new model's standard error is: **___**\n",
    "The quadratic model's standard error was: **___** (therefore a better model).\n",
    "\n",
    "We can use the new model to test further away, try for d = 90 hours."
   ]
  },
  {
   "cell_type": "code",
   "execution_count": null,
   "metadata": {},
   "outputs": [],
   "source": [
    "predict(model5, d=90)"
   ]
  },
  {
   "cell_type": "markdown",
   "metadata": {},
   "source": [
    "The predicted value is **NNN** g/unit sugar. When running the actual experiment, the value achieved was: **NNN**. \n",
    "This is great prediction! Let's rebuild the model with the new data point."
   ]
  },
  {
   "cell_type": "code",
   "execution_count": null,
   "metadata": {},
   "outputs": [],
   "source": [
    "d6 = d5.extend([90])\n",
    "y6 = y5.extend([___])\n",
    "expt6 = gather(d=d6, y=y6, title=\"Hyperbolic model with point at d=90 hrs\")\n",
    "# Rebuild the model with the new data point, keeping model structure: y=1/d\n",
    "model6 = lm(\"y ~  I(1/d)\", data=expt6)\n",
    "summary(model6)\n",
    "p = plot_model(model6, \"d\", \"y\", fig=p, xlim=(20, 115), color=\"blue\")"
   ]
  },
  {
   "cell_type": "markdown",
   "metadata": {},
   "source": [
    "# Adding more points to the model: stepping further and further\n",
    "\n",
    "* Try 95 hours:\n",
    "    * Predicted yield:  **NNN**\n",
    "    * Actual yield: **NNN**. Therefore keep going.\n",
    "\n",
    "\n",
    "*  Try 105 hours:\n",
    "    * Predicted yield = **NNN** \n",
    "    * Actual yield =  **NNN**!! Wow: a large discrepancy.\n",
    "\n",
    "What is going on here in the system?"
   ]
  },
  {
   "cell_type": "code",
   "execution_count": null,
   "metadata": {},
   "outputs": [],
   "source": [
    "print(predict(model6, d=95))\n",
    "print(predict(model6, d=105))"
   ]
  },
  {
   "cell_type": "markdown",
   "metadata": {},
   "source": [
    "We will now try some of the other models, to see what they look like visually:\n",
    "\n",
    "| Description             | Equation specifying the model format         | Standard error |\n",
    "|-------------------------|----------------------------------------------|----------------|\n",
    "| Quadratic (see above)   | $y = \\text{intercept} + d + d^2$             | ___            |\n",
    "| Inverse (hyperbolic)    | $y = \\text{intercept} + \\dfrac{1}{d}$        | ___            |\n",
    "| Inverse square root     | $y = \\text{intercept} + \\dfrac{1}{\\sqrt{d}}$ | ___            |\n",
    "| Inverse log             | $y = \\text{intercept} + \\dfrac{1}{\\log{d}}$  | ___            |"
   ]
  },
  {
   "cell_type": "code",
   "execution_count": null,
   "metadata": {},
   "outputs": [],
   "source": [
    "d7 = d6.extend([95, 105])\n",
    "y7 = y6.extend([__, ___])\n",
    "expt7 = gather(d=d7, y=y7, title=\"Quadratic model. All data.\")\n",
    "print(expt7)"
   ]
  },
  {
   "cell_type": "code",
   "execution_count": null,
   "metadata": {},
   "outputs": [],
   "source": [
    "model_quad = lm(\"y ~ d + I(d**2)\", data=expt7, name=\"With quadratic term\")\n",
    "summary(model_quad)\n",
    "p = plot_model(model_quad, \"d\", \"y\", fig=p, xlim=(20, 110), color=\"darkcyan\")"
   ]
  },
  {
   "cell_type": "code",
   "execution_count": null,
   "metadata": {},
   "outputs": [],
   "source": [
    "model_hyperbolic = lm(\"y ~ I(1/d)\", data=expt7, name=\"Hyperbolic\")\n",
    "summary(model_hyperbolic)\n",
    "p = plot_model(model_hyperbolic, \"d\", \"y\", fig=p, xlim=(20, 110), color=\"red\")"
   ]
  },
  {
   "cell_type": "code",
   "execution_count": null,
   "metadata": {},
   "outputs": [],
   "source": [
    "model_squareroot = lm(\"y ~ d + I(1/np.sqrt(d))\", data=expt7, name=\"Inverse square root\")\n",
    "summary(model_squareroot)\n",
    "p = plot_model(model_squareroot, \"d\", \"y\", fig=p, xlim=(20, 110), color=\"orange\")"
   ]
  },
  {
   "cell_type": "code",
   "execution_count": null,
   "metadata": {},
   "outputs": [],
   "source": [
    "model_log = lm(\"y ~ d + I(1/np.log(d))\", data=expt7, name=\"Inverse log\")\n",
    "summary(model_log)\n",
    "p = plot_model(model_log, \"d\", \"y\", fig=p, xlim=(20, 110), color=\"brown\")"
   ]
  },
  {
   "cell_type": "markdown",
   "metadata": {},
   "source": [
    "# Conclusion\n",
    "\n",
    "None of the models predict a true optimum for us. Yet, we get a sense we are optimum, or at least a levelling out of the optimum, around $d=95$ to $100$ hours. From the curves we see an expected optimum of around **NNN** g/units of sugar.\n",
    "\n",
    "We run a last experiment at $d=100$ hours and get a yield of **NNN** g/units of sugar."
   ]
  }
 ],
 "metadata": {
  "kernelspec": {
   "display_name": "Python 3",
   "language": "python",
   "name": "python3"
  },
  "language_info": {
   "codemirror_mode": {
    "name": "ipython",
    "version": 3
   },
   "file_extension": ".py",
   "mimetype": "text/x-python",
   "name": "python",
   "nbconvert_exporter": "python",
   "pygments_lexer": "ipython3",
   "version": "3.6.8"
  }
 },
 "nbformat": 4,
 "nbformat_minor": 2
}
