{
 "cells": [
  {
   "cell_type": "markdown",
   "metadata": {},
   "source": [
    "# Week 10 case study: optimization of a 2-factor system"
   ]
  },
  {
   "cell_type": "code",
   "execution_count": null,
   "metadata": {},
   "outputs": [],
   "source": [
    "from process_improve import *    \n",
    "from bokeh.plotting import output_notebook\n",
    "output_notebook()"
   ]
  },
  {
   "cell_type": "markdown",
   "metadata": {},
   "source": [
    "## Background and assumptions\n",
    "\n",
    "We assume we have run other experiments already, and we are only left with these 2 factors which have influence on the system.\n",
    "\n",
    "**P** = price: baseline is 0.75 $/part\n",
    "\n",
    "**T** = throughput: baseline is 325 parts per hour.\n",
    "\n",
    "Based on prior knowledge of the system and experience we know that it is throughput sensitive, and somewhat price sensitive in the region we have used in the past (around the baseline). So we cannot take such big steps initially.\n",
    "\n",
    "1. Run another center point\n",
    "2. Run a full factorial in 2 factors *in random order*, using range of P = [0.70, 0.80] and a range of throughputs = [300, 350].\n",
    "3. Record the results of all 6 experiments."
   ]
  },
  {
   "cell_type": "code",
   "execution_count": null,
   "metadata": {},
   "outputs": [],
   "source": [
    "# Experiments were run in random order, but shown here in standard order\n",
    "p1 = c(0.75, 0.75, 0.70, 0.80, 0.70, 0.80, center=0.75, range=[0.7, 0.8], name = \"Price\", units = '$/part')    \n",
    "t1 = c( 325,  325,  300,  300,  350,  350, center=325,  range=[300, 350], name = 'Throughput', units = 'parts/hour')\n",
    "P1 = p1.to_coded()\n",
    "T1 = t1.to_coded()\n",
    "print(t1)\n",
    "print(T1)"
   ]
  },
  {
   "cell_type": "code",
   "execution_count": null,
   "metadata": {},
   "outputs": [],
   "source": [
    "# Gather all the data together\n",
    "y1 = c(___, ___, ___, ___, ___, ___, \n",
    "       name = \"Response: profit per hour\", units=\"$/hour\")\n",
    "expt1 = gather(P=P1, T=T1, y=y1, title=\"First experiment\")\n",
    "print(expt1)"
   ]
  },
  {
   "cell_type": "code",
   "execution_count": null,
   "metadata": {},
   "outputs": [],
   "source": [
    "mod_base1 = lm(\"y ~ P * T\", data=expt1)\n",
    "summary(mod_base1)\n",
    "contour_plot(mod_base1, \"P\", \"T\");"
   ]
  },
  {
   "cell_type": "markdown",
   "metadata": {},
   "source": [
    "### Understand the model's performance\n",
    "\n",
    "Does the model predict equally well everywhere?\n"
   ]
  },
  {
   "cell_type": "code",
   "execution_count": null,
   "metadata": {},
   "outputs": [],
   "source": [
    "prediction_1 = predict(mod_base1, P=P1, T=T1)\n",
    "print(prediction_1)\n",
    "print(y1 - prediction_1)"
   ]
  },
  {
   "cell_type": "markdown",
   "metadata": {},
   "source": [
    "We see non-linearity, especially when viewed in the direction of T, Throughput.\n",
    "\n",
    "Let's use the model anyway to make a prediction, to verify the model's performance. Best next step seems to be at\n",
    "\n",
    "* P = ___ (coded values)\n",
    "* T = ___ (coded values)\n",
    "\n",
    "Predict what will happen first, to see how well the model works. "
   ]
  },
  {
   "cell_type": "code",
   "execution_count": null,
   "metadata": {},
   "outputs": [],
   "source": [
    "P2 = P1.extend([___])\n",
    "T2 = T1.extend([___])\n",
    "p2 = P2.to_realworld()\n",
    "t2 = T2.to_realworld()\n",
    "print(p2) \n",
    "print(t2) \n",
    "print(predict(mod_base1, P = P2, T = T2))"
   ]
  },
  {
   "cell_type": "markdown",
   "metadata": {},
   "source": [
    "Predicted profit value = ____\n",
    "\n",
    "Actual profit value = ____\n",
    "\n",
    "Confirms our model is in a very nonlinear region in the T=Throughput direction."
   ]
  },
  {
   "cell_type": "code",
   "execution_count": null,
   "metadata": {},
   "outputs": [],
   "source": [
    "# Add axial points, starting in the T direction:\n",
    "P3 = P2.extend([0, 0])\n",
    "T3 = T2.extend([1.68, -1.68])\n",
    "p3 = P3.to_realworld()\n",
    "t3 = T3.to_realworld()\n",
    "print(p3) \n",
    "print(t3) "
   ]
  }
 ],
 "metadata": {
  "kernelspec": {
   "display_name": "Python 3",
   "language": "python",
   "name": "python3"
  },
  "language_info": {
   "codemirror_mode": {
    "name": "ipython",
    "version": 3
   },
   "file_extension": ".py",
   "mimetype": "text/x-python",
   "name": "python",
   "nbconvert_exporter": "python",
   "pygments_lexer": "ipython3",
   "version": "3.6.8"
  }
 },
 "nbformat": 4,
 "nbformat_minor": 2
}
