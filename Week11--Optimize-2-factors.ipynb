{
 "cells": [
  {
   "cell_type": "markdown",
   "metadata": {},
   "source": [
    "# Week 11 case study: optimization of a 2-factor system"
   ]
  },
  {
   "cell_type": "code",
   "execution_count": null,
   "metadata": {},
   "outputs": [],
   "source": [
    "from process_improve import *    \n",
    "from bokeh.plotting import output_notebook\n",
    "output_notebook()"
   ]
  },
  {
   "cell_type": "markdown",
   "metadata": {},
   "source": [
    "## Background and assumptions\n",
    "\n",
    "We assume we have run other experiments already, and we are only left with these 2 factors which have influence on the system.\n",
    "\n",
    "**P** = price: baseline is 0.75 $/part\n",
    "\n",
    "**T** = throughput: baseline is 325 parts per hour.\n",
    "\n",
    "Based on prior knowledge of the system and experience we know that it is throughput sensitive, and somewhat price sensitive in the region we have used in the past (around the baseline). So we cannot take such big steps initially.\n",
    "\n",
    "1. Run another center point\n",
    "2. Run a full factorial in 2 factors *in random order*, using range of P = [0.70, 0.80] and a range of throughputs = [300, 350].\n",
    "3. Record the results of all 6 experiments."
   ]
  },
  {
   "cell_type": "code",
   "execution_count": null,
   "metadata": {},
   "outputs": [],
   "source": [
    "# Experiments were run in random order, but shown here in standard order\n",
    "p1 = c(0.75, 0.75, 0.70, 0.80, 0.70, 0.80, center=0.75, range=[0.7, 0.8], name = \"Price\", units = '$/part')    \n",
    "t1 = c( 325,  325,  300,  300,  350,  350, center=325,  range=[300, 350], name = 'Throughput', units = 'parts/hour')\n",
    "P1 = p1.to_coded()\n",
    "T1 = t1.to_coded()\n",
    "gather(Price=p1, Throughput=t1)\n"
   ]
  },
  {
   "cell_type": "code",
   "execution_count": null,
   "metadata": {},
   "outputs": [],
   "source": [
    "# Gather all the data together\n",
    "y1 = c(____, ____, ____, ____, ____, ____,\n",
    "       name = \"Response: profit per hour\", units=\"$/hour\")\n",
    "expt1 = gather(P=P1, T=T1, y=y1, title=\"First experiment\")\n",
    "print(expt1)"
   ]
  },
  {
   "cell_type": "code",
   "execution_count": null,
   "metadata": {},
   "outputs": [],
   "source": [
    "mod_base1 = lm(\"y ~ P * T\", data=expt1)\n",
    "summary(mod_base1)\n",
    "contour_plot(mod_base1, \"P\", \"T\");"
   ]
  },
  {
   "cell_type": "markdown",
   "metadata": {},
   "source": [
    "### Understand the model's performance\n",
    "\n",
    "Does the model predict equally well everywhere?\n"
   ]
  },
  {
   "cell_type": "code",
   "execution_count": null,
   "metadata": {},
   "outputs": [],
   "source": [
    "prediction_1 = predict(mod_base1, P=P1, T=T1)\n",
    "print(prediction_1)\n",
    "print(y1 - prediction_1)"
   ]
  },
  {
   "cell_type": "markdown",
   "metadata": {},
   "source": [
    "We see non-linearity, especially when viewed in the direction of T, Throughput.\n",
    "\n",
    "Let's use the model anyway to make a prediction, to verify the model's performance. The best next step seems to be at:\n",
    "\n",
    "* P = ____ (coded values)\n",
    "* T = 2 (coded values)\n",
    "\n",
    "Predict what will happen first, to see how well the model works. "
   ]
  },
  {
   "cell_type": "code",
   "execution_count": null,
   "metadata": {},
   "outputs": [],
   "source": [
    "P2 = P1.extend([____])\n",
    "T2 = T1.extend([2])\n",
    "p2 = P2.to_realworld()\n",
    "t2 = T2.to_realworld()\n",
    "print(p2) \n",
    "print(t2) \n",
    "print(predict(mod_base1, P = P2, T = T2))"
   ]
  },
  {
   "cell_type": "code",
   "execution_count": null,
   "metadata": {},
   "outputs": [],
   "source": [
    "# Then run the experiment, and fill in the new response for the 7th experiment\n",
    "y2 = y1.extend([____])"
   ]
  },
  {
   "cell_type": "markdown",
   "metadata": {},
   "source": [
    "Predicted profit value = ____\n",
    "\n",
    "Actual profit value = ____\n",
    "\n",
    "Confirms our model is in a nonlinear region in the T=Throughput direction. The predictions don't match, and we see over- and under-prediction in the throughput direction. Nonlinearity in that direction."
   ]
  },
  {
   "cell_type": "code",
   "execution_count": null,
   "metadata": {},
   "outputs": [],
   "source": [
    "# Add axial points: \n",
    "P3 = P2.extend([-1.41, +1.41,     0,     0])\n",
    "T3 = T2.extend([    0,     0, -1.41, +1.41])\n",
    "p3 = P3.to_realworld()\n",
    "t3 = T3.to_realworld()\n",
    "gather(Price=p3, Throughput=t3)\n",
    ""
   ]
  },
  {
   "cell_type": "code",
   "execution_count": null,
   "metadata": {},
   "outputs": [],
   "source": [
    "# Then run the 4 experiments, and add the results here:\n",
    "y3 = y2.extend([____, ____, ____, ____])"
   ]
  },
  {
   "cell_type": "code",
   "execution_count": null,
   "metadata": {},
   "outputs": [],
   "source": [
    "expt3 = gather(P=P3, T=T3, y=y3, title=\"Added the axial points; quadratic model\")\n",
    "print(expt3)"
   ]
  },
  {
   "cell_type": "code",
   "execution_count": null,
   "metadata": {},
   "outputs": [],
   "source": [
    "mod_base3 = lm(\"y ~ P * T + I(P**2) + I(T**2)\", data=expt3)\n",
    "summary(mod_base3)\n",
    "contour_plot(mod_base3, \"P\", \"T\");"
   ]
  },
  {
   "cell_type": "code",
   "execution_count": null,
   "metadata": {},
   "outputs": [],
   "source": [
    "# Expand the contour plot to higher values of P\n",
    "contour_plot(mod_base3, \"P\", \"T\", xlim=(-2, +6));"
   ]
  },
  {
   "cell_type": "markdown",
   "metadata": {},
   "source": [
    "# Taking a step with the quadratic model\n",
    "\n",
    "The quadratic terms in factor T are strongly significant, while not significant in P. The direction of improvement is in P though. So take a step, but perhaps not as far.\n",
    "In coded units:\n",
    "* P = ____ (coded values)\n",
    "* T = +1 (coded values)"
   ]
  },
  {
   "cell_type": "code",
   "execution_count": null,
   "metadata": {},
   "outputs": [],
   "source": [
    "P4 = P3.extend([____])\n",
    "T4 = T3.extend([+1])\n",
    "p4 = P4.to_realworld()\n",
    "t4 = T4.to_realworld()\n",
    "print(f'Price per part = {p4[-1:].values} $/part')  # show the last in the vector\n",
    "print(f'Throughput     = {t4[-1:].values} parts/hour')"
   ]
  },
  {
   "cell_type": "code",
   "execution_count": null,
   "metadata": {},
   "outputs": [],
   "source": [
    "# Run the experiment and add the actual value here:\n",
    "y4 = y3.extend([____])"
   ]
  },
  {
   "cell_type": "markdown",
   "metadata": {},
   "source": [
    "Predicted value: ____ $/hour profit\n",
    "\n",
    "Actual value: ____  $/hour profit\n",
    "\n",
    "Predicted value is off by ____ $ profit/hour. Update the model with the new value."
   ]
  },
  {
   "cell_type": "code",
   "execution_count": null,
   "metadata": {},
   "outputs": [],
   "source": [
    "expt4 = gather(P=P4, T=T4, y=y4, title=\"Add the first step out into the quadratic model space\")\n",
    "mod_base4 = lm(\"y ~ P * T + I(P**2) + I(T**2)\", data=expt4)\n",
    "summary(mod_base4)\n",
    "contour_plot(mod_base4, \"P\", \"T\", xlim=(-2, 10));"
   ]
  },
  {
   "cell_type": "markdown",
   "metadata": {},
   "source": [
    "The model's $R^2$ value and standard error seem great. The coefficients for the direction of factor P have also changed. We can probably take the next step with confidence:\n",
    "\n",
    "In coded units:\n",
    "* P = ____ (coded values)\n",
    "* T = ____ (coded values)"
   ]
  },
  {
   "cell_type": "code",
   "execution_count": null,
   "metadata": {},
   "outputs": [],
   "source": [
    "P5 = P4.extend([+7.1])\n",
    "T5 = T4.extend([+1])\n",
    "p5 = P5.to_realworld()\n",
    "t5 = T5.to_realworld()\n",
    "print(f'Price per part = {p5[-1:].values} $/part')  # show the last in the vector\n",
    "print(f'Throughput     = {t5[-1:].values} parts/hour')\n",
    "\n",
    "predictions = predict(mod_base4, P=P5, T=T5 )\n",
    "print(f'Prediction     = {predictions[-1:].values} $ per hour')"
   ]
  },
  {
   "cell_type": "code",
   "execution_count": null,
   "metadata": {},
   "outputs": [],
   "source": [
    "# Run the experiment and add the actual value here:\n",
    "y5 = y4.extend([____])"
   ]
  },
  {
   "cell_type": "markdown",
   "metadata": {},
   "source": [
    "Predicted value: ____ $/hour profit\n",
    "\n",
    "Actual value: ____\n",
    "\n",
    "This looks satisfying. Stop here; or confirm with another quadratic model update around this point."
   ]
  }
 ],
 "metadata": {
  "kernelspec": {
   "display_name": "Python 3",
   "language": "python",
   "name": "python3"
  },
  "language_info": {
   "codemirror_mode": {
    "name": "ipython",
    "version": 3
   },
   "file_extension": ".py",
   "mimetype": "text/x-python",
   "name": "python",
   "nbconvert_exporter": "python",
   "pygments_lexer": "ipython3",
   "version": "3.6.8"
  }
 },
 "nbformat": 4,
 "nbformat_minor": 2
}
