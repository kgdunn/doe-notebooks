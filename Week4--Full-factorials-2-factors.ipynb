{
 "cells": [
  {
   "cell_type": "markdown",
   "metadata": {},
   "source": [
    "Goal: regular experiments with 2 factors\n",
    "===========================================\n",
    "\n",
    "Increase sales from an a small online business. \n",
    "\n",
    "Data avaialble:\n",
    "\n",
    "* **S** = free shipping over €30 or over €50  [numeric factor]\n",
    "* **P** = purchaser must provide a profile    [categorical factor]"
   ]
  },
  {
   "cell_type": "code",
   "execution_count": null,
   "metadata": {},
   "outputs": [],
   "source": [
    "from process_improve import *\n",
    "from bokeh.plotting import output_notebook\n",
    "output_notebook()"
   ]
  },
  {
   "cell_type": "code",
   "execution_count": null,
   "metadata": {},
   "outputs": [],
   "source": [
    "# S = Free shipping if order amount is €30 or more [-1], or if order amount is over €50 [+1]\n",
    "S = c(-1, +1, -1, +1, -1, +1, -1, +1, name='Free shipping amount')\n",
    "\n",
    "# P = Does the purchaser need to create a profile first [+1] or not [-1]?\n",
    "P = c(-1, -1, +1, +1, -1, -1, +1, +1, name='Create profile: No/Yes')\n",
    "\n",
    "# Response: daily sales amount\n",
    "y = c(348, 359, 327, 243, 356, 363, 296, 257, units=\"€ sales\")\n",
    "    \n",
    "# Linear model using S, P and S*P to predict the response\n",
    "expt = gather(S=S, P=P, y=y, title='Experiments to boost sales')\n",
    "model_sales = lm(\"y ~ S*P\", expt)"
   ]
  },
  {
   "cell_type": "code",
   "execution_count": null,
   "metadata": {},
   "outputs": [],
   "source": [
    "summary(model_sales);"
   ]
  },
  {
   "cell_type": "markdown",
   "metadata": {},
   "source": [
    "The model shows that:\n",
    "\n",
    "* The $R^2$ value is ____\n",
    "* The standard error has a value of _____ <units?> which indicates _____\n",
    "* Compare this standard error of ____ to the spread (the deviation) between repeated experiments run under the same conditions.\n",
    "\n",
    "Interpretation of the model coefficients\n",
    "----------------------------------------\n",
    "\n",
    "* Coefficient **S** has a value of _____, which shows that sales ______ (increase/decrease)  by €13 for every € ____ increase in the free-shipping threshold, keeping all other factors constant.\n",
    "* Coefficient **P** has a value of _____, which shows that sales ______ (increase/decrease)  by ____ if ______________________, keeping all other factors constant.\n",
    "\n",
    "\n"
   ]
  },
  {
   "cell_type": "code",
   "execution_count": null,
   "metadata": {},
   "outputs": [],
   "source": [
    "contour_plot(model_sales, dpi=80);"
   ]
  },
  {
   "cell_type": "markdown",
   "metadata": {},
   "source": [
    "From the contour plot, and the model above, this advice can be given:\n",
    "\n",
    "* ___\n",
    "* ___"
   ]
  },
  {
   "cell_type": "markdown",
   "metadata": {},
   "source": [
    "Experiments with mistakes\n",
    "===========================\n",
    "\n",
    "Imagine one experiment was run incorrectly by mistake:\n",
    "\n",
    "* free shipping was set to €60, and required a profile.\n",
    "* Instead of € 2570 sales, a value of €2200 was recorded.\n",
    "\n",
    "*Original model*:\n",
    "\n",
    "* Intercept: ___\n",
    "* Effect of **S**: ____\n",
    "* Effect of **P**: ____\n",
    "\n",
    "*With the mistake*:\n",
    "\n",
    "* Intercept: ___\n",
    "* Effect of **S**: ____\n",
    "* Effect of **P**: ____"
   ]
  },
  {
   "cell_type": "code",
   "execution_count": null,
   "metadata": {},
   "outputs": [],
   "source": [
    "# S = Free shipping if order amount is €30 or more [-1], or if order amount is over €50 [+1]\n",
    "# Notice that a mistake was made with the last experiment: order minimum for free shipping was €60 [+2].\n",
    "S = c(-1, +1, -1, +1, -1, +1, -1, +2, name='Free shipping amount')\n",
    "\n",
    "# P = Does the purchaser need to create a profile first [+1] or not [-1]?\n",
    "P = c(-1, -1, +1, +1, -1, -1, +1, +1, name='Create profile: No/Yes')\n",
    "\n",
    "# Response: daily sales amount\n",
    "y = c(348, 359, 327, 243, 356, 363, 296, 220, units=\"€ sales\")\n",
    "    \n",
    "# Linear model using S, P and S*P to predict the response\n",
    "expt = gather(S=S, P=P, y=y, title='Experiments to boost sales')\n",
    "model_sales_mistake = lm(\"y ~ S*P\", expt)\n",
    "summary(model_sales_mistake)\n",
    "contour_plot(model_sales_mistake, dpi=80);"
   ]
  }
 ],
 "metadata": {
  "kernelspec": {
   "display_name": "Python 3",
   "language": "python",
   "name": "python3"
  },
  "language_info": {
   "codemirror_mode": {
    "name": "ipython",
    "version": 3
   },
   "file_extension": ".py",
   "mimetype": "text/x-python",
   "name": "python",
   "nbconvert_exporter": "python",
   "pygments_lexer": "ipython3",
   "version": "3.6.8"
  }
 },
 "nbformat": 4,
 "nbformat_minor": 2
}
