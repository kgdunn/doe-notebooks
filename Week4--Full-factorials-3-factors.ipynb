{
 "cells": [
  {
   "cell_type": "markdown",
   "metadata": {},
   "source": [
    "Goal: regular experiments with 3 factors\n",
    "===========================================\n",
    "\n",
    "Achieve a stability value of 50 days or more, for a new product.\n",
    "\n",
    "Data avaialble:\n",
    "\n",
    "* **A**: enzyme strength  [numeric factor]\n",
    "* **B**: feed concentration [numeric factor]\n",
    "* **C**: mixer type [categorical factor]\n",
    "* *y* = Stability [days]"
   ]
  },
  {
   "cell_type": "code",
   "execution_count": null,
   "metadata": {},
   "outputs": [],
   "source": [
    "from process_improve import *\n",
    "from bokeh.plotting import output_notebook\n",
    "output_notebook()"
   ]
  },
  {
   "cell_type": "code",
   "execution_count": null,
   "metadata": {},
   "outputs": [],
   "source": [
    "A = B = C = c(-1, +1)\n",
    "A, B, C = expand_grid(A=A, B=B, C=C)\n",
    "    \n",
    "A.name = \"Enzyme strength\"\n",
    "B.name = \"Feed concentration\"\n",
    "C.name = \"Mixer type\"\n",
    "\n",
    "# Response: stability value\n",
    "y = c(40, 27, 35, 21, 41, 27, 31, 20, name=\"Stability\", units=\"days\")\n",
    "    \n",
    "# Linear model using all factors to predict the response\n",
    "expt = gather(A=A, B=B, C=C, y=y, title='Experiments to determine stability value')\n",
    "expt"
   ]
  },
  {
   "cell_type": "code",
   "execution_count": null,
   "metadata": {},
   "outputs": [],
   "source": [
    "model_stability = lm(\"y ~ A*B*C\", expt)\n",
    "summary(model_stability);"
   ]
  },
  {
   "cell_type": "markdown",
   "metadata": {},
   "source": [
    "Interpretation of the model \n",
    "----------------------------------------\n",
    "\n",
    "The model shows:\n",
    "\n",
    "* An $R^2$ value of ____\n",
    "* The factors which have the greatest influence on the product's stability are:\n",
    " 1. ___\n",
    " 2. ___, then finally \n",
    " 3. ___\n",
    "\n",
    "\n",
    "Use contour plots of all combinations (A and B, A and C, B and C) to verify which factor has the least influence on the stability. Does your visual conclusion in the contour plot match your conclusion from the linear regression model summary? Does it match the  bar magnitudes in the Pareto plot?\n",
    "\n",
    "\n",
    "\n",
    "\n"
   ]
  },
  {
   "cell_type": "code",
   "execution_count": null,
   "metadata": {},
   "outputs": [],
   "source": [
    "# Contour plots:\n",
    "# contour_plot(model_stability, \"A\", \"B\", dpi=40)\n",
    "# contour_plot(model_stability, \"A\", \"C\", dpi=40)\n",
    "# contour_plot(model_stability, \"B\", \"C\", dpi=40);"
   ]
  },
  {
   "cell_type": "markdown",
   "metadata": {},
   "source": [
    "Model without the unimportant factor(s)\n",
    "---------------------------------------\n",
    "\n",
    "Remove factor C from consideration. Why?"
   ]
  },
  {
   "cell_type": "code",
   "execution_count": null,
   "metadata": {},
   "outputs": [],
   "source": [
    "expt_no_C = gather(A=A, B=B, y=y, title='Experiments to determine stability value: A and B only')\n",
    "model_stability_no_C = lm(\"y ~ A*B\", expt_no_C)\n",
    "summary(model_stability_no_C);"
   ]
  },
  {
   "cell_type": "code",
   "execution_count": null,
   "metadata": {},
   "outputs": [],
   "source": [
    "contour_plot(model_stability_no_C, xlabel=\"A\", ylabel=\"B\", dpi=80);"
   ]
  },
  {
   "cell_type": "code",
   "execution_count": null,
   "metadata": {},
   "outputs": [],
   "source": [
    "models.predict(model_stability_no_C, A=-2, B=-2)"
   ]
  }
 ],
 "metadata": {
  "kernelspec": {
   "display_name": "Python 3",
   "language": "python",
   "name": "python3"
  },
  "language_info": {
   "codemirror_mode": {
    "name": "ipython",
    "version": 3
   },
   "file_extension": ".py",
   "mimetype": "text/x-python",
   "name": "python",
   "nbconvert_exporter": "python",
   "pygments_lexer": "ipython3",
   "version": "3.6.8"
  }
 },
 "nbformat": 4,
 "nbformat_minor": 2
}
