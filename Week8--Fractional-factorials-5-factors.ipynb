{
 "cells": [
  {
   "cell_type": "markdown",
   "metadata": {},
   "source": [
    "# Week 8 case study"
   ]
  },
  {
   "cell_type": "code",
   "execution_count": null,
   "metadata": {},
   "outputs": [],
   "source": [
    "from process_improve import *    \n",
    "from bokeh.plotting import output_notebook\n",
    "output_notebook()"
   ]
  },
  {
   "cell_type": "markdown",
   "metadata": {},
   "source": [
    "#  Design set-up\n",
    "\n",
    "Total of 5 factors investigated: A, B, C, D, E. Factor E, is the \"person\" effect, due to the experimenter. It is a blocking variable.\n",
    "      \n",
    "| Factor | Description                  | Low value | High value| Type       |\n",
    "|--------|------------------------------|-----------|-----------|------------|\n",
    "| **A**  | Filter aid                   | 10 g/kg   | 25 g/kg   |Numeric     |\n",
    "| **B**  | Batch source                 | Withdrawl | Grow-out  |Categorical |\n",
    "| **C**  | pH                           | 5         | 6         |Numeric     |\n",
    "| **D**  | Day                          | Day 1     | Day 3     |Numeric     |\n",
    "| **E**  | Person                       | Sarah     | Tim       |Categorical |\n",
    "\n",
    "\n",
    "Budget: only 8 experiments, no replicates, no center points\n",
    "\n",
    "The experiment has:\n",
    "* k = \n",
    "* p = \n",
    "* Therefore there are ___ generators.\n",
    "\n",
    "These generators are:\n",
    "* <fill in here> \n",
    "* <fill in here>"
   ]
  },
  {
   "cell_type": "code",
   "execution_count": null,
   "metadata": {},
   "outputs": [],
   "source": [
    "A, B, C = full_factorial(3, names = ['A', 'B', 'C'])\n",
    "print(A)\n",
    "A = supplement(A, name=\"Filter aid\", units=\"g/kg\", lo=10, hi=25)\n",
    "B = supplement(B, name=\"Batch source\", levels=['Withdrawal', 'Grow-out'])\n",
    "C = supplement(C, name=\"pH\", units=\"-\", lo=5, hi=6)\n",
    "print(A)"
   ]
  },
  {
   "cell_type": "code",
   "execution_count": null,
   "metadata": {},
   "outputs": [],
   "source": [
    "# Generate the 2 other factors, based on the settings in the tradeoff table.\n",
    "\n",
    "D = A*B\n",
    "E = A*C\n",
    "\n",
    "D = supplement(D, name=\"Day\", units=\"days\", lo=1, hi=3)\n",
    "E = supplement(E, name=\"Person\", units=\"-\", levels=[\"Sarah\", \"Tim\"])"
   ]
  },
  {
   "cell_type": "code",
   "execution_count": null,
   "metadata": {},
   "outputs": [],
   "source": [
    "# There are 8 experiments done in random order, but the results are recorded in standard order:\n",
    "y = c(120, 76, 106, 90, 72, 74, 90, 55, name=\"Turbidity\", units='NTU')"
   ]
  },
  {
   "cell_type": "markdown",
   "metadata": {},
   "source": [
    "# Experimental model analysis"
   ]
  },
  {
   "cell_type": "code",
   "execution_count": null,
   "metadata": {},
   "outputs": [],
   "source": [
    "# Gather the data, and the response together:\n",
    "expt = gather(A=A, B=B, C=C, D=D, E=E, y=y, title=\"Fractional factorial in 5 factors\")\n",
    "print(expt)"
   ]
  },
  {
   "cell_type": "code",
   "execution_count": null,
   "metadata": {},
   "outputs": [],
   "source": [
    "# Finally, build the linear model\n",
    "mod_ff = lm(\"y ~ A*B*C*D*E\", data=expt)\n",
    "summary(mod_ff, aliasing_up_to_level=5);"
   ]
  },
  {
   "cell_type": "code",
   "execution_count": null,
   "metadata": {},
   "outputs": [],
   "source": [
    "# And plot a Pareto plot\n",
    "pareto_plot(mod_ff)"
   ]
  },
  {
   "cell_type": "markdown",
   "metadata": {},
   "source": [
    "# Drop out terms that are likely not of importance\n",
    "\n",
    "* Factor: B and D\n",
    "* But, factor D is involved in an interaction: CD interaction. Therefore, include D, but exclude B."
   ]
  },
  {
   "cell_type": "code",
   "execution_count": null,
   "metadata": {},
   "outputs": [],
   "source": [
    "# Finally, build the linear model\n",
    "mod_subset = lm(\"y ~ A*C*D*E\", data=expt)\n",
    "summary(mod_subset);"
   ]
  },
  {
   "cell_type": "code",
   "execution_count": null,
   "metadata": {},
   "outputs": [],
   "source": [
    "# Regenerate the Pareto plot; though it is not necessary\n",
    "pareto_plot(mod_subset)"
   ]
  }
 ],
 "metadata": {
  "kernelspec": {
   "display_name": "Python 3",
   "language": "python",
   "name": "python3"
  },
  "language_info": {
   "codemirror_mode": {
    "name": "ipython",
    "version": 3
   },
   "file_extension": ".py",
   "mimetype": "text/x-python",
   "name": "python",
   "nbconvert_exporter": "python",
   "pygments_lexer": "ipython3",
   "version": "3.6.8"
  }
 },
 "nbformat": 4,
 "nbformat_minor": 2
}
