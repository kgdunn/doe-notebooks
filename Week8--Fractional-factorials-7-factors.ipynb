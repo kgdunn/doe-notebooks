{
 "cells": [
  {
   "cell_type": "markdown",
   "metadata": {},
   "source": [
    "# Week 8 case study"
   ]
  },
  {
   "cell_type": "code",
   "execution_count": null,
   "metadata": {},
   "outputs": [],
   "source": [
    "from process_improve import *    \n",
    "from bokeh.plotting import output_notebook\n",
    "output_notebook()"
   ]
  },
  {
   "cell_type": "markdown",
   "metadata": {},
   "source": [
    "#  Design set-up\n",
    "\n",
    "Total of 7 factors investigated: A, B, C, D, E, F, G\n",
    "\n",
    "Only 8 experiments were done: no replicates, no center points\n",
    "\n",
    "The experiment has:\n",
    "* k = \n",
    "* p = \n",
    "* Therefore there are ___ generators.\n",
    "\n",
    "These generators are:\n",
    "* <fill in here> \n",
    "* <fill in here>\n",
    "* <fill in here>\n",
    "* <fill in here>\n"
   ]
  },
  {
   "cell_type": "code",
   "execution_count": null,
   "metadata": {},
   "outputs": [],
   "source": [
    "A, B, C = full_factorial(3, names = ['A', 'B', 'C'])\n",
    "print(A)"
   ]
  },
  {
   "cell_type": "code",
   "execution_count": null,
   "metadata": {},
   "outputs": [],
   "source": [
    "# Generate the 4 other factors, based on the settings in the tradeoff table\n",
    "D = A*B\n",
    "E = A*C\n",
    "F = B*C\n",
    "G = A*B*C"
   ]
  },
  {
   "cell_type": "code",
   "execution_count": null,
   "metadata": {},
   "outputs": [],
   "source": [
    "# There are 8 experiments done in random order, but the results are recorded in standard order:\n",
    "y = c(320, 276, 306, 290, 272, 274, 290, 255)"
   ]
  },
  {
   "cell_type": "markdown",
   "metadata": {},
   "source": [
    "# Experimental model analysis"
   ]
  },
  {
   "cell_type": "code",
   "execution_count": null,
   "metadata": {},
   "outputs": [],
   "source": [
    "# Gather the data, and the response together:\n",
    "expt = gather(A=A, B=B, C=C, D=D, E=E, F=F, G=G, y=y, title=\"Fractional factorial\")\n",
    "print(expt)"
   ]
  },
  {
   "cell_type": "code",
   "execution_count": null,
   "metadata": {},
   "outputs": [],
   "source": [
    "# Finally, build the linear model\n",
    "mod_ff = lm(\"y ~ A*B*C*D*E*F*G\", data=expt)\n",
    "summary(mod_ff);"
   ]
  },
  {
   "cell_type": "code",
   "execution_count": null,
   "metadata": {},
   "outputs": [],
   "source": [
    "# And plot a Pareto plot\n",
    "pareto_plot(mod_ff)"
   ]
  },
  {
   "cell_type": "markdown",
   "metadata": {},
   "source": [
    "# Drop out terms that are likely not of importance\n",
    "\n",
    "* Factor: B, F and D"
   ]
  },
  {
   "cell_type": "code",
   "execution_count": null,
   "metadata": {},
   "outputs": [],
   "source": [
    "# Finally, build the linear model\n",
    "mod_subset = lm(\"y ~ A * C * E * G + A:C:E - C:G\", data=expt)\n",
    "summary(mod_subset);"
   ]
  },
  {
   "cell_type": "code",
   "execution_count": null,
   "metadata": {},
   "outputs": [],
   "source": [
    "# Regenerate the Pareto plot; though it is not necessary\n",
    "pareto_plot(mod_subset)"
   ]
  }
 ],
 "metadata": {
  "kernelspec": {
   "display_name": "Python 3",
   "language": "python",
   "name": "python3"
  },
  "language_info": {
   "codemirror_mode": {
    "name": "ipython",
    "version": 3
   },
   "file_extension": ".py",
   "mimetype": "text/x-python",
   "name": "python",
   "nbconvert_exporter": "python",
   "pygments_lexer": "ipython3",
   "version": "3.6.8"
  }
 },
 "nbformat": 4,
 "nbformat_minor": 2
}
