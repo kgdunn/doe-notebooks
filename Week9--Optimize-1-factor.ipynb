{
 "cells": [
  {
   "cell_type": "markdown",
   "metadata": {},
   "source": [
    "# Week 9 case study: optimization"
   ]
  },
  {
   "cell_type": "code",
   "execution_count": null,
   "metadata": {},
   "outputs": [],
   "source": [
    "from process_improve import *    \n",
    "from bokeh.plotting import output_notebook\n",
    "output_notebook()"
   ]
  },
  {
   "cell_type": "markdown",
   "metadata": {},
   "source": [
    "## Converting between real-world and coded units"
   ]
  },
  {
   "cell_type": "code",
   "execution_count": null,
   "metadata": {},
   "outputs": [],
   "source": [
    "t = c(45, 55, lo=45, hi=55)\n",
    "T = t.to_coded()\n",
    "print(T)"
   ]
  },
  {
   "cell_type": "code",
   "execution_count": null,
   "metadata": {},
   "outputs": [],
   "source": [
    "t = c(45, 55, 40, 67, lo=45, hi=55)\n",
    "T = t.to_coded()\n",
    "print(T)"
   ]
  },
  {
   "cell_type": "markdown",
   "metadata": {},
   "source": [
    "## Univariate case study: popcorn\n",
    "\n",
    "1. Open the website link: https://rsmopt.com\n",
    "2. Click on the Sign-In button (top right)\n",
    "3. Type in your email address (no user account is required)\n",
    "4. Check your email for a sign-in link\n",
    "5. Go to the pop corn problem\n",
    "6. Optimize!\n",
    "\n"
   ]
  },
  {
   "cell_type": "markdown",
   "metadata": {},
   "source": [
    "## Univariate case study: Biological growth\n",
    "\n",
    "Find the duration [hours] of an experiment to maximize the yield of a biological product. \n",
    "* Duration too long: side reactions occur which consume your product.\n",
    "* Duration too short: you miss out on the opportunity of creating more product."
   ]
  },
  {
   "cell_type": "markdown",
   "metadata": {},
   "source": [
    "Start small: with just 2 experiments:\n",
    "1. 24 hours: *this experiment is already been run*; product created [g]/unit sugar used = _____\n",
    "2. 48 hours: response = _____\n"
   ]
  },
  {
   "cell_type": "code",
   "execution_count": null,
   "metadata": {},
   "outputs": [],
   "source": [
    "d1 = c(24, 48, center=36, range=(24, 48), coded=False, units='hours', name='Duration')\n",
    "D1 = d1.to_coded()\n",
    "print(D1)"
   ]
  },
  {
   "cell_type": "code",
   "execution_count": null,
   "metadata": {},
   "outputs": [],
   "source": [
    "y1 = c(___, ___, name=\"Production\", units=\"g/unit sugar\")\n",
    "expt1 = gather(D=D1, y=y1, title=\"Starting off\")\n",
    "print(expt1)"
   ]
  },
  {
   "cell_type": "code",
   "execution_count": null,
   "metadata": {},
   "outputs": [],
   "source": [
    "model1 = lm(\"y ~ D\", data=expt1, name='Linear base model')\n",
    "summary(model1);\n",
    "p = plot_model(model1, \"D\", \"y\", xlim=(-2, 5), color=\"blue\")"
   ]
  },
  {
   "cell_type": "markdown",
   "metadata": {},
   "source": [
    "What is the interpretation of the \n",
    "\n",
    "* slope?\n",
    "* intercept?\n",
    "* why is $R^2 = 1$ and $S_E$=standard error = 0?\n",
    "\n",
    "\n",
    "### Add some center points\n",
    "\n",
    "* Predicted value at the center: ____\n",
    "* Actual value achieved from the experiment = ___\n",
    "* Run a second experiment at the center, to get a feeling for spread. Response = ___\n",
    "* There is a spread of about ____\n",
    "\n",
    "Let's rebuild the model with this new information:"
   ]
  },
  {
   "cell_type": "code",
   "execution_count": null,
   "metadata": {},
   "outputs": [],
   "source": [
    "d2 = d1.extend([36, 36])\n",
    "D2 = d2.to_coded()\n",
    "y2 = y1.extend([___, ___])\n",
    "expt2 = gather(D=D2, y=y2, title=\"Added 2 center points\")\n",
    "print(expt2)"
   ]
  },
  {
   "cell_type": "code",
   "execution_count": null,
   "metadata": {},
   "outputs": [],
   "source": [
    "# Show the linear fit from 4 data pointsm with the green line\n",
    "model2 = lm(\"y ~ D\", data=expt2)\n",
    "summary(model2)\n",
    "p = plot_model(model2, \"D\", \"y\", fig=p, xlim=(-2, 5), color=\"darkgreen\")"
   ]
  },
  {
   "cell_type": "markdown",
   "metadata": {},
   "source": [
    "## Use a different model structure: quadratic model"
   ]
  },
  {
   "cell_type": "code",
   "execution_count": null,
   "metadata": {},
   "outputs": [],
   "source": [
    "# Model 2B: Seems like a quadratic model through all the data points \n",
    "# could be a better model: y = intercept + D + D^2\n",
    "model2B = lm(\"y ~ D + I(D**2)\", data=expt2)\n",
    "summary(model2B)\n",
    "p = plot_model(model2B, \"D\", \"y\", fig=p, xlim=(-2, 5), color=\"red\")"
   ]
  },
  {
   "cell_type": "markdown",
   "metadata": {},
   "source": [
    "## Step outside the range: a new coded value of +2"
   ]
  },
  {
   "cell_type": "code",
   "execution_count": null,
   "metadata": {},
   "outputs": [],
   "source": [
    "D3 = D2.extend([+2])\n",
    "d3 = D3.to_realworld()\n",
    "print(d3)"
   ]
  },
  {
   "cell_type": "code",
   "execution_count": null,
   "metadata": {},
   "outputs": [],
   "source": [
    "# Predict what the expected outcome will be with the new data point\n",
    "predict(model2B, D=D3)   "
   ]
  },
  {
   "cell_type": "markdown",
   "metadata": {},
   "source": [
    "The next experiment was run at a coded value of +2, which in real-world values is ____\n",
    "\n",
    "The predicted response is: ___\n",
    "\n",
    "Running the next experiment gave a value of: ___\n",
    "\n",
    "Conclusion: the model is ???\n"
   ]
  },
  {
   "cell_type": "code",
   "execution_count": null,
   "metadata": {},
   "outputs": [],
   "source": [
    "y3 = y2.extend([___])\n",
    "expt3 = gather(D=D3, y=y3, title=\"Extended out to +2 (coded)\")\n",
    "model3 = lm(\"y ~ D + I(D**2)\", data=expt3, name='Quadratic model')\n",
    "summary(model3);\n",
    "\n",
    "# Plot it again: purple\n",
    "p = plot_model(model3, \"D\", \"y\", fig=p, xlim=(-2, 5), color=\"purple\")"
   ]
  }
 ],
 "metadata": {
  "kernelspec": {
   "display_name": "Python 3",
   "language": "python",
   "name": "python3"
  },
  "language_info": {
   "codemirror_mode": {
    "name": "ipython",
    "version": 3
   },
   "file_extension": ".py",
   "mimetype": "text/x-python",
   "name": "python",
   "nbconvert_exporter": "python",
   "pygments_lexer": "ipython3",
   "version": "3.6.8"
  }
 },
 "nbformat": 4,
 "nbformat_minor": 2
}
